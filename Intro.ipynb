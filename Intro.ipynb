{
  "nbformat": 4,
  "nbformat_minor": 0,
  "metadata": {
    "colab": {
      "name": "Intro.ipynb",
      "provenance": [],
      "collapsed_sections": [],
      "authorship_tag": "ABX9TyOETUzGNb7uz47MxL+62pVU",
      "include_colab_link": true
    },
    "kernelspec": {
      "name": "python3",
      "display_name": "Python 3"
    }
  },
  "cells": [
    {
      "cell_type": "markdown",
      "metadata": {
        "id": "view-in-github",
        "colab_type": "text"
      },
      "source": [
        "<a href=\"https://colab.research.google.com/github/dniemczok/Python3-L001/blob/master/Intro.ipynb\" target=\"_parent\"><img src=\"https://colab.research.google.com/assets/colab-badge.svg\" alt=\"Open In Colab\"/></a>"
      ]
    },
    {
      "cell_type": "code",
      "metadata": {
        "id": "rdrP9CbstUPb",
        "colab_type": "code",
        "colab": {
          "base_uri": "https://localhost:8080/",
          "height": 34
        },
        "outputId": "cf58a97e-40dd-4972-99b8-c6c485a61218"
      },
      "source": [
        "print (\"Hello Colab\")"
      ],
      "execution_count": 1,
      "outputs": [
        {
          "output_type": "stream",
          "text": [
            "Hello Colab\n"
          ],
          "name": "stdout"
        }
      ]
    },
    {
      "cell_type": "markdown",
      "metadata": {
        "id": "5UH5afM_2Nz2",
        "colab_type": "text"
      },
      "source": [
        "Datatime"
      ]
    },
    {
      "cell_type": "code",
      "metadata": {
        "id": "UCu6qRAI2BUZ",
        "colab_type": "code",
        "colab": {
          "base_uri": "https://localhost:8080/",
          "height": 746
        },
        "outputId": "2d9e16b0-6498-4ef3-de4f-b57446174a35"
      },
      "source": [
        "    import datetime\n",
        "     \n",
        "     \n",
        "    d1 = datetime.date(2020, 7, 21)\n",
        "    d2 = datetime.date(2020, 12, 31)\n",
        "    d3 = datetime.date(1990, 5, 7)\n",
        "     \n",
        "    print(d1)\n",
        "    print(d2)\n",
        "    print(d3)\n",
        "\n",
        "diff = (d2 - d1).days\n",
        "print(f'Number of days: {diff}')\n",
        "\n",
        "t1 = datetime.time(12, 0, 0)\n",
        "t2 = datetime.time(6, 30, 0)\n",
        "t3 = datetime.time(9, 15, 0)\n",
        " \n",
        "print(t1)\n",
        "print(t2)\n",
        "print(t3)\n",
        "\n",
        "dt1 = datetime.datetime(2020, 7, 20, 11, 30, 0)\n",
        "dt2 = datetime.datetime(1990, 3, 10, 12, 0, 0)\n",
        "dt3 = datetime.datetime(2021, 2, 20, 10, 25, 0)\n",
        " \n",
        "print(dt1)\n",
        "print(dt2)\n",
        "print(dt3)\n",
        "\n",
        "print(dt3 - dt1)\n",
        "\n",
        "\n",
        "from datetime import datetime\n",
        "\n",
        "dt1 = datetime(2021, 4, 20, 11, 30, 00)\n",
        " \n",
        "print(dt1.strftime('%Y-%m-%d'))\n",
        "print(dt1.strftime('%d-%m-%Y'))\n",
        "print(dt1.strftime('%m-%Y'))\n",
        "print(dt1.strftime('%B-%Y'))\n",
        "print(dt1.strftime('%d %B, %Y'))\n",
        "print(dt1.strftime('%Y-%m-%d %H:%M:%S'))\n",
        "print(dt1.strftime('%m/%d/%y %H:%M:%S'))\n",
        "print(dt1.strftime('%d(%a) %B %Y'))\n",
        "\n",
        "dt2 = datetime(1995, 4, 20, 11, 30, 00)\n",
        "print(dt2.strftime('%d/%B %Y'))\n",
        "\n",
        " \n",
        "date_str_1 = '3 March 1995'\n",
        "date_str_2 = '3/9/1995'\n",
        "date_str_3 = '21-07-2021'\n",
        " \n",
        "dt1 = datetime.strptime(date_str_1, '%d %B %Y')\n",
        "dt2 = datetime.strptime(date_str_2, '%d/%m/%Y')\n",
        "dt3 = datetime.strptime(date_str_3, '%d-%m-%Y')\n",
        " \n",
        "print(dt1)\n",
        "print(dt2)\n",
        "print(dt3)\n",
        "\n",
        "\n",
        "    import datetime\n",
        "\n",
        "today = datetime.date.today()\n",
        "end_of_year = datetime.date(today.year, 12, 31)\n",
        "diff = (end_of_year - today).days\n",
        "print(f'Number of days until the end of the year: {diff}')\n",
        "\n",
        "\n",
        "     \n",
        "now = datetime.datetime.now()\n",
        "end_of_year = datetime.datetime(now.year, 12, 31)\n",
        "diff = end_of_year - now\n",
        "print(f'Until the end of the year: {diff}')\n",
        "\n",
        "\n",
        "dt = datetime.datetime.now()\n",
        " \n",
        "print(dt + datetime.timedelta(days=7))\n",
        "print(dt + datetime.timedelta(days=30))\n",
        "print(dt + datetime.timedelta(hours=30))\n",
        "print(dt + datetime.timedelta(minutes=15))\n",
        "\n",
        "\n",
        "dt = datetime.datetime(2020, 1, 1)\n",
        "delta = datetime.timedelta(hours=8)\n",
        " \n",
        "dates = [dt + i * delta for i in range(12)]\n",
        " \n",
        "for date in dates:\n",
        "  print(date)\n",
        "\n",
        " \n",
        "rate = 0.04\n",
        "pv = 1000\n",
        "daily_rate = rate / 365.0\n",
        " \n",
        "d1 = datetime.date(2021, 7, 1)\n",
        "d2 = datetime.date(2021, 12, 31)\n",
        "duration = d2 - d1\n",
        " \n",
        "fv = pv * (1 + daily_rate) ** duration.days\n",
        "print(f'Future value: {fv:.2f} USD')\n"
      ],
      "execution_count": 8,
      "outputs": [
        {
          "output_type": "stream",
          "text": [
            "2020-07-21\n",
            "2020-12-31\n",
            "1990-05-07\n",
            "Number of days: 163\n",
            "12:00:00\n",
            "06:30:00\n",
            "09:15:00\n",
            "2020-07-20 11:30:00\n",
            "1990-03-10 12:00:00\n",
            "2021-02-20 10:25:00\n",
            "214 days, 22:55:00\n",
            "2021-04-20\n",
            "20-04-2021\n",
            "04-2021\n",
            "April-2021\n",
            "20 April, 2021\n",
            "2021-04-20 11:30:00\n",
            "04/20/21 11:30:00\n",
            "20(Tue) April 2021\n",
            "20/April 1995\n",
            "1995-03-03 00:00:00\n",
            "1995-09-03 00:00:00\n",
            "2021-07-21 00:00:00\n",
            "Number of days until the end of the year: 119\n",
            "Until the end of the year: 118 days, 15:45:46.307748\n",
            "2020-09-10 08:14:13.692369\n",
            "2020-10-03 08:14:13.692369\n",
            "2020-09-04 14:14:13.692369\n",
            "2020-09-03 08:29:13.692369\n",
            "2020-01-01 00:00:00\n",
            "2020-01-01 08:00:00\n",
            "2020-01-01 16:00:00\n",
            "2020-01-02 00:00:00\n",
            "2020-01-02 08:00:00\n",
            "2020-01-02 16:00:00\n",
            "2020-01-03 00:00:00\n",
            "2020-01-03 08:00:00\n",
            "2020-01-03 16:00:00\n",
            "2020-01-04 00:00:00\n",
            "2020-01-04 08:00:00\n",
            "2020-01-04 16:00:00\n",
            "Future value: 1020.26 USD\n"
          ],
          "name": "stdout"
        }
      ]
    },
    {
      "cell_type": "markdown",
      "metadata": {
        "id": "dugp06WHCOCu",
        "colab_type": "text"
      },
      "source": [
        "OS\n"
      ]
    },
    {
      "cell_type": "code",
      "metadata": {
        "id": "FDlm9H6kCPe0",
        "colab_type": "code",
        "colab": {
          "base_uri": "https://localhost:8080/",
          "height": 1000
        },
        "outputId": "358e10c3-c438-4088-b2ab-8807c85af8f6"
      },
      "source": [
        "    import os\n",
        "     \n",
        "     \n",
        "    print(os.getcwd())\n",
        "    print(os.listdir())\n",
        "\n",
        "    names = sorted([name for name in os.listdir() if name.startswith('s')])\n",
        "print(names)\n",
        "\n",
        "fnames = sorted([name for name in os.listdir() if name.endswith('ig')])\n",
        "print(fnames)\n",
        "\n",
        "\n",
        "#os.mkdir('images')\n",
        "#os.chdir('images')\n",
        "os.chdir('/content')\n",
        "print(os.listdir())\n",
        "#os.mkdir('documents')\n",
        "#os.chdir('documents')\n",
        "\n",
        "#dirnames = [f'{str(i).zfill(2)}_sales' for i in range(1, 13)]\n",
        "#for dirname in dirnames:\n",
        "#  path = os.path.join('documents', dirname)\n",
        "#  os.mkdir(path)\n",
        " \n",
        "print(sorted(os.listdir('documents')))\n",
        "\n",
        "\n",
        "\n",
        "base_dir = 'images'\n",
        "png_dir = os.path.join(base_dir, 'images_png')\n",
        "jpg_dir = os.path.join(base_dir, 'images_jpg')\n",
        " \n",
        "if not os.path.exists(base_dir):\n",
        "  os.mkdir(base_dir)\n",
        " \n",
        "if not os.path.exists(png_dir):\n",
        "  os.mkdir(png_dir)\n",
        " \n",
        "if not os.path.exists(jpg_dir):\n",
        "  os.mkdir(jpg_dir)\n",
        " \n",
        "for root, dirs, files in os.walk(base_dir):\n",
        "  print(root)\n",
        "\n",
        "\n",
        "      import os\n",
        "    import random\n",
        "     \n",
        "     \n",
        "    random.seed(30)\n",
        "    images = [f\"{str(i).zfill(3)}_image.{random.choice(['png', 'jpg'])}\" for i in range(1, 20)]\n",
        "     \n",
        "    base_dir = 'images'\n",
        "     \n",
        "    if not os.path.exists(base_dir):\n",
        "        os.mkdir(base_dir)\n",
        "     \n",
        "    png_dir = os.path.join(base_dir, 'images_png')\n",
        "    jpg_dir = os.path.join(base_dir, 'images_jpg')\n",
        "     \n",
        "    if not os.path.exists(png_dir):\n",
        "        os.mkdir(png_dir)\n",
        "     \n",
        "    if not os.path.exists(jpg_dir):\n",
        "        os.mkdir(jpg_dir)\n",
        "     \n",
        "    for image in images:\n",
        "        if image.endswith('.png'):\n",
        "            open(os.path.join(png_dir, image), 'w').close()\n",
        "        elif image.endswith('.jpg'):\n",
        "            open(os.path.join(jpg_dir, image), 'w').close()\n",
        "     \n",
        "    for root, dirs, files in os.walk(base_dir):\n",
        "        print(root)\n",
        "        for file in sorted(files):\n",
        "            print(f'\\t{file}')\n",
        "\n",
        "    for root, dirs, files in os.walk(base_dir):\n",
        "      for file in sorted(files):\n",
        "        print(file)\n",
        "\n",
        "\n",
        "fnames = [f\"{str(i).zfill(3)}_sales.csv\" for i in range(1, 25)]\n",
        "paths = [os.path.join(os.getcwd(), fname) for fname in fnames]\n",
        "print(paths)\n",
        "\n",
        "\n",
        "fnames = [f\"{str(i).zfill(2)}_sales.csv\" for i in range(1, 25)]\n",
        "paths = [os.path.join(os.getcwd(), '2020', fname) if idx < 12 \n",
        "         else os.path.join(os.getcwd(), '2021', fname) \n",
        "         for idx, fname in enumerate(fnames)]\n",
        "         \n",
        "for path in paths:\n",
        "  print(path)\n",
        "\n",
        "\n",
        "    paths = [os.path.join(os.getcwd(), f'dir_{str(i).zfill(2)}') for i in range(1, 14)]\n",
        "     \n",
        "    for path in paths:\n",
        "        if not os.path.exists(path):\n",
        "            os.mkdir(path)\n",
        "        \n",
        "    os.rmdir(os.path.join(os.getcwd(), 'dir_13')) \n",
        "    fnames = [fname for fname in sorted(os.listdir()) if len(fname) == 6]\n",
        "    print(fnames)\n",
        "\n"
      ],
      "execution_count": 54,
      "outputs": [
        {
          "output_type": "stream",
          "text": [
            "/content\n",
            "['.config', 'images', 'documents', 'sample_data']\n",
            "['sample_data']\n",
            "['.config']\n",
            "['.config', 'images', 'documents', 'sample_data']\n",
            "['01_sales', '02_sales', '03_sales', '04_sales', '05_sales', '06_sales', '07_sales', '08_sales', '09_sales', '10_sales', '11_sales', '12_sales']\n",
            "images\n",
            "images/images_jpg\n",
            "images/images_png\n",
            "images/images\n",
            "images\n",
            "images/images_jpg\n",
            "\t001_image.jpg\n",
            "\t004_image.jpg\n",
            "\t006_image.jpg\n",
            "\t007_image.jpg\n",
            "\t010_image.jpg\n",
            "\t016_image.jpg\n",
            "\t017_image.jpg\n",
            "\t019_image.jpg\n",
            "images/images_png\n",
            "\t002_image.png\n",
            "\t003_image.png\n",
            "\t005_image.png\n",
            "\t008_image.png\n",
            "\t009_image.png\n",
            "\t011_image.png\n",
            "\t012_image.png\n",
            "\t013_image.png\n",
            "\t014_image.png\n",
            "\t015_image.png\n",
            "\t018_image.png\n",
            "images/images\n",
            "001_image.jpg\n",
            "004_image.jpg\n",
            "006_image.jpg\n",
            "007_image.jpg\n",
            "010_image.jpg\n",
            "016_image.jpg\n",
            "017_image.jpg\n",
            "019_image.jpg\n",
            "002_image.png\n",
            "003_image.png\n",
            "005_image.png\n",
            "008_image.png\n",
            "009_image.png\n",
            "011_image.png\n",
            "012_image.png\n",
            "013_image.png\n",
            "014_image.png\n",
            "015_image.png\n",
            "018_image.png\n",
            "['/content/001_sales.csv', '/content/002_sales.csv', '/content/003_sales.csv', '/content/004_sales.csv', '/content/005_sales.csv', '/content/006_sales.csv', '/content/007_sales.csv', '/content/008_sales.csv', '/content/009_sales.csv', '/content/010_sales.csv', '/content/011_sales.csv', '/content/012_sales.csv', '/content/013_sales.csv', '/content/014_sales.csv', '/content/015_sales.csv', '/content/016_sales.csv', '/content/017_sales.csv', '/content/018_sales.csv', '/content/019_sales.csv', '/content/020_sales.csv', '/content/021_sales.csv', '/content/022_sales.csv', '/content/023_sales.csv', '/content/024_sales.csv']\n",
            "/content/2020/01_sales.csv\n",
            "/content/2020/02_sales.csv\n",
            "/content/2020/03_sales.csv\n",
            "/content/2020/04_sales.csv\n",
            "/content/2020/05_sales.csv\n",
            "/content/2020/06_sales.csv\n",
            "/content/2020/07_sales.csv\n",
            "/content/2020/08_sales.csv\n",
            "/content/2020/09_sales.csv\n",
            "/content/2020/10_sales.csv\n",
            "/content/2020/11_sales.csv\n",
            "/content/2020/12_sales.csv\n",
            "/content/2021/13_sales.csv\n",
            "/content/2021/14_sales.csv\n",
            "/content/2021/15_sales.csv\n",
            "/content/2021/16_sales.csv\n",
            "/content/2021/17_sales.csv\n",
            "/content/2021/18_sales.csv\n",
            "/content/2021/19_sales.csv\n",
            "/content/2021/20_sales.csv\n",
            "/content/2021/21_sales.csv\n",
            "/content/2021/22_sales.csv\n",
            "/content/2021/23_sales.csv\n",
            "/content/2021/24_sales.csv\n",
            "['dir_01', 'dir_02', 'dir_03', 'dir_04', 'dir_05', 'dir_06', 'dir_07', 'dir_08', 'dir_09', 'dir_10', 'dir_11', 'dir_12', 'images']\n"
          ],
          "name": "stdout"
        }
      ]
    },
    {
      "cell_type": "markdown",
      "metadata": {
        "id": "75nacqF5xqKm",
        "colab_type": "text"
      },
      "source": [
        "SYS\n"
      ]
    },
    {
      "cell_type": "code",
      "metadata": {
        "id": "kkfBIof6xsVU",
        "colab_type": "code",
        "colab": {
          "base_uri": "https://localhost:8080/",
          "height": 124
        },
        "outputId": "d057e8ee-46d0-466d-fbd6-5a6733aa6c5c"
      },
      "source": [
        "    import sys\n",
        "     \n",
        "     \n",
        "    print(sys.executable)\n",
        "\n",
        "    print(sys.path)\n",
        "\n",
        "    for arg in sys.argv[1:]:\n",
        "      print(arg)\n",
        "\n",
        "    #if len(sys.argv) > 2:\n",
        "    # result = int(sys.argv[1]) + int(sys.argv[2])\n",
        "    # print(result)\n",
        "\n",
        "#    if len(sys.argv) > 1:\n",
        "#      values = [int(value) for value in sys.argv[1:]]\n",
        "#      result = sum(values) / len(values)\n",
        "#      print(f'Average: {result:.4f}')\n",
        "#    else:\n",
        "#      print('No values were given.')\n",
        "\n",
        "saved_stdout = sys.stdout\n",
        " \n",
        "file = open('logs.txt', 'w')\n",
        "sys.stdout = file\n",
        " \n",
        "print('Logging...')\n",
        "print('Connecting...')\n",
        "print('Closing...')\n",
        " \n",
        "file.close()\n",
        " \n",
        "sys.stdout = saved_stdout\n",
        "print('Completed successfully')"
      ],
      "execution_count": 58,
      "outputs": [
        {
          "output_type": "stream",
          "text": [
            "/usr/bin/python3\n",
            "['', '/env/python', '/usr/lib/python36.zip', '/usr/lib/python3.6', '/usr/lib/python3.6/lib-dynload', '/usr/local/lib/python3.6/dist-packages', '/usr/lib/python3/dist-packages', '/usr/local/lib/python3.6/dist-packages/IPython/extensions', '/root/.ipython']\n",
            "-f\n",
            "/root/.local/share/jupyter/runtime/kernel-7efb1cc0-b073-47d9-8c14-35463f120e8a.json\n",
            "Completed successfully\n"
          ],
          "name": "stdout"
        }
      ]
    },
    {
      "cell_type": "markdown",
      "metadata": {
        "id": "UPddfOnb1MEu",
        "colab_type": "text"
      },
      "source": [
        "COPY\n"
      ]
    },
    {
      "cell_type": "code",
      "metadata": {
        "id": "gbj985Vt1Nc0",
        "colab_type": "code",
        "colab": {
          "base_uri": "https://localhost:8080/",
          "height": 86
        },
        "outputId": "4de81fd0-b68c-43dc-dc63-b093fbfd2fd1"
      },
      "source": [
        "    import copy\n",
        "     \n",
        "     \n",
        "    stocks = [['CDR', '11B'], ['PLW'], ['TEN']]\n",
        "    stocks_copied = copy.copy(stocks)\n",
        "     \n",
        "    stocks[0][1] = 'CRJ'\n",
        "     \n",
        "    print(f'stocks: {stocks}')\n",
        "    print(f'stocks_copied: {stocks_copied}')\n",
        "\n",
        "\n",
        "stocks = [['CDR', '11B'], ['PLW'], ['TEN']]\n",
        "stocks_copied = copy.deepcopy(stocks)\n",
        " \n",
        "stocks[0][1] = 'CRJ'\n",
        " \n",
        "print(f'stocks: {stocks}')\n",
        "print(f'stocks_copied: {stocks_copied}')"
      ],
      "execution_count": 60,
      "outputs": [
        {
          "output_type": "stream",
          "text": [
            "stocks: [['CDR', 'CRJ'], ['PLW'], ['TEN']]\n",
            "stocks_copied: [['CDR', 'CRJ'], ['PLW'], ['TEN']]\n",
            "stocks: [['CDR', 'CRJ'], ['PLW'], ['TEN']]\n",
            "stocks_copied: [['CDR', '11B'], ['PLW'], ['TEN']]\n"
          ],
          "name": "stdout"
        }
      ]
    },
    {
      "cell_type": "code",
      "metadata": {
        "id": "8wPonYpFOC1a",
        "colab_type": "code",
        "colab": {
          "base_uri": "https://localhost:8080/",
          "height": 104
        },
        "outputId": "4c242e9a-7808-490f-81ae-fd1f6d5f2522"
      },
      "source": [
        "import os\n",
        "     \n",
        "print(os.listdir())\n",
        "dt = os.listdir()\n",
        "\n",
        "for f in dt:\n",
        "  print(os.listdir(f))"
      ],
      "execution_count": 41,
      "outputs": [
        {
          "output_type": "stream",
          "text": [
            "['.config', 'images', 'documents', 'sample_data']\n",
            "['.last_update_check.json', 'config_sentinel', '.last_survey_prompt.yaml', '.last_opt_in_prompt.yaml', 'configurations', 'gce', 'active_config', 'logs', '.metricsUUID']\n",
            "['images_jpg', 'images_png', 'images']\n",
            "['06_sales', '01_sales', '05_sales', '08_sales', '10_sales', '03_sales', '04_sales', '07_sales', '11_sales', '02_sales', '09_sales', '12_sales']\n",
            "['README.md', 'anscombe.json', 'mnist_train_small.csv', 'california_housing_test.csv', 'mnist_test.csv', 'california_housing_train.csv']\n"
          ],
          "name": "stdout"
        }
      ]
    }
  ]
}
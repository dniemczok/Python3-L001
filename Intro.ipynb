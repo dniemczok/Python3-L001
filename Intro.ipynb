{
  "nbformat": 4,
  "nbformat_minor": 0,
  "metadata": {
    "colab": {
      "name": "Intro.ipynb",
      "provenance": [],
      "collapsed_sections": [],
      "authorship_tag": "ABX9TyPgVs6SMqWCHhZtPNUTDHXA",
      "include_colab_link": true
    },
    "kernelspec": {
      "name": "python3",
      "display_name": "Python 3"
    }
  },
  "cells": [
    {
      "cell_type": "markdown",
      "metadata": {
        "id": "view-in-github",
        "colab_type": "text"
      },
      "source": [
        "<a href=\"https://colab.research.google.com/github/dniemczok/Python3-L001/blob/master/Intro.ipynb\" target=\"_parent\"><img src=\"https://colab.research.google.com/assets/colab-badge.svg\" alt=\"Open In Colab\"/></a>"
      ]
    },
    {
      "cell_type": "code",
      "metadata": {
        "id": "rdrP9CbstUPb",
        "colab_type": "code",
        "colab": {
          "base_uri": "https://localhost:8080/",
          "height": 34
        },
        "outputId": "cf58a97e-40dd-4972-99b8-c6c485a61218"
      },
      "source": [
        "print (\"Hello Colab\")"
      ],
      "execution_count": 1,
      "outputs": [
        {
          "output_type": "stream",
          "text": [
            "Hello Colab\n"
          ],
          "name": "stdout"
        }
      ]
    },
    {
      "cell_type": "markdown",
      "metadata": {
        "id": "5UH5afM_2Nz2",
        "colab_type": "text"
      },
      "source": [
        "Datatime"
      ]
    },
    {
      "cell_type": "code",
      "metadata": {
        "id": "UCu6qRAI2BUZ",
        "colab_type": "code",
        "colab": {
          "base_uri": "https://localhost:8080/",
          "height": 746
        },
        "outputId": "2d9e16b0-6498-4ef3-de4f-b57446174a35"
      },
      "source": [
        "    import datetime\n",
        "     \n",
        "     \n",
        "    d1 = datetime.date(2020, 7, 21)\n",
        "    d2 = datetime.date(2020, 12, 31)\n",
        "    d3 = datetime.date(1990, 5, 7)\n",
        "     \n",
        "    print(d1)\n",
        "    print(d2)\n",
        "    print(d3)\n",
        "\n",
        "diff = (d2 - d1).days\n",
        "print(f'Number of days: {diff}')\n",
        "\n",
        "t1 = datetime.time(12, 0, 0)\n",
        "t2 = datetime.time(6, 30, 0)\n",
        "t3 = datetime.time(9, 15, 0)\n",
        " \n",
        "print(t1)\n",
        "print(t2)\n",
        "print(t3)\n",
        "\n",
        "dt1 = datetime.datetime(2020, 7, 20, 11, 30, 0)\n",
        "dt2 = datetime.datetime(1990, 3, 10, 12, 0, 0)\n",
        "dt3 = datetime.datetime(2021, 2, 20, 10, 25, 0)\n",
        " \n",
        "print(dt1)\n",
        "print(dt2)\n",
        "print(dt3)\n",
        "\n",
        "print(dt3 - dt1)\n",
        "\n",
        "\n",
        "from datetime import datetime\n",
        "\n",
        "dt1 = datetime(2021, 4, 20, 11, 30, 00)\n",
        " \n",
        "print(dt1.strftime('%Y-%m-%d'))\n",
        "print(dt1.strftime('%d-%m-%Y'))\n",
        "print(dt1.strftime('%m-%Y'))\n",
        "print(dt1.strftime('%B-%Y'))\n",
        "print(dt1.strftime('%d %B, %Y'))\n",
        "print(dt1.strftime('%Y-%m-%d %H:%M:%S'))\n",
        "print(dt1.strftime('%m/%d/%y %H:%M:%S'))\n",
        "print(dt1.strftime('%d(%a) %B %Y'))\n",
        "\n",
        "dt2 = datetime(1995, 4, 20, 11, 30, 00)\n",
        "print(dt2.strftime('%d/%B %Y'))\n",
        "\n",
        " \n",
        "date_str_1 = '3 March 1995'\n",
        "date_str_2 = '3/9/1995'\n",
        "date_str_3 = '21-07-2021'\n",
        " \n",
        "dt1 = datetime.strptime(date_str_1, '%d %B %Y')\n",
        "dt2 = datetime.strptime(date_str_2, '%d/%m/%Y')\n",
        "dt3 = datetime.strptime(date_str_3, '%d-%m-%Y')\n",
        " \n",
        "print(dt1)\n",
        "print(dt2)\n",
        "print(dt3)\n",
        "\n",
        "\n",
        "    import datetime\n",
        "\n",
        "today = datetime.date.today()\n",
        "end_of_year = datetime.date(today.year, 12, 31)\n",
        "diff = (end_of_year - today).days\n",
        "print(f'Number of days until the end of the year: {diff}')\n",
        "\n",
        "\n",
        "     \n",
        "now = datetime.datetime.now()\n",
        "end_of_year = datetime.datetime(now.year, 12, 31)\n",
        "diff = end_of_year - now\n",
        "print(f'Until the end of the year: {diff}')\n",
        "\n",
        "\n",
        "dt = datetime.datetime.now()\n",
        " \n",
        "print(dt + datetime.timedelta(days=7))\n",
        "print(dt + datetime.timedelta(days=30))\n",
        "print(dt + datetime.timedelta(hours=30))\n",
        "print(dt + datetime.timedelta(minutes=15))\n",
        "\n",
        "\n",
        "dt = datetime.datetime(2020, 1, 1)\n",
        "delta = datetime.timedelta(hours=8)\n",
        " \n",
        "dates = [dt + i * delta for i in range(12)]\n",
        " \n",
        "for date in dates:\n",
        "  print(date)\n",
        "\n",
        " \n",
        "rate = 0.04\n",
        "pv = 1000\n",
        "daily_rate = rate / 365.0\n",
        " \n",
        "d1 = datetime.date(2021, 7, 1)\n",
        "d2 = datetime.date(2021, 12, 31)\n",
        "duration = d2 - d1\n",
        " \n",
        "fv = pv * (1 + daily_rate) ** duration.days\n",
        "print(f'Future value: {fv:.2f} USD')\n"
      ],
      "execution_count": 8,
      "outputs": [
        {
          "output_type": "stream",
          "text": [
            "2020-07-21\n",
            "2020-12-31\n",
            "1990-05-07\n",
            "Number of days: 163\n",
            "12:00:00\n",
            "06:30:00\n",
            "09:15:00\n",
            "2020-07-20 11:30:00\n",
            "1990-03-10 12:00:00\n",
            "2021-02-20 10:25:00\n",
            "214 days, 22:55:00\n",
            "2021-04-20\n",
            "20-04-2021\n",
            "04-2021\n",
            "April-2021\n",
            "20 April, 2021\n",
            "2021-04-20 11:30:00\n",
            "04/20/21 11:30:00\n",
            "20(Tue) April 2021\n",
            "20/April 1995\n",
            "1995-03-03 00:00:00\n",
            "1995-09-03 00:00:00\n",
            "2021-07-21 00:00:00\n",
            "Number of days until the end of the year: 119\n",
            "Until the end of the year: 118 days, 15:45:46.307748\n",
            "2020-09-10 08:14:13.692369\n",
            "2020-10-03 08:14:13.692369\n",
            "2020-09-04 14:14:13.692369\n",
            "2020-09-03 08:29:13.692369\n",
            "2020-01-01 00:00:00\n",
            "2020-01-01 08:00:00\n",
            "2020-01-01 16:00:00\n",
            "2020-01-02 00:00:00\n",
            "2020-01-02 08:00:00\n",
            "2020-01-02 16:00:00\n",
            "2020-01-03 00:00:00\n",
            "2020-01-03 08:00:00\n",
            "2020-01-03 16:00:00\n",
            "2020-01-04 00:00:00\n",
            "2020-01-04 08:00:00\n",
            "2020-01-04 16:00:00\n",
            "Future value: 1020.26 USD\n"
          ],
          "name": "stdout"
        }
      ]
    },
    {
      "cell_type": "markdown",
      "metadata": {
        "id": "dugp06WHCOCu",
        "colab_type": "text"
      },
      "source": [
        "OS\n"
      ]
    },
    {
      "cell_type": "code",
      "metadata": {
        "id": "FDlm9H6kCPe0",
        "colab_type": "code",
        "colab": {}
      },
      "source": [
        ""
      ],
      "execution_count": null,
      "outputs": []
    }
  ]
}
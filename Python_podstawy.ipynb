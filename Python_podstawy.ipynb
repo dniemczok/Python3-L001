{
  "nbformat": 4,
  "nbformat_minor": 0,
  "metadata": {
    "colab": {
      "name": "Python podstawy.ipynb",
      "provenance": [],
      "authorship_tag": "ABX9TyPEdKo7dGo0Y4aYvHMuR7GP",
      "include_colab_link": true
    },
    "kernelspec": {
      "name": "python3",
      "display_name": "Python 3"
    }
  },
  "cells": [
    {
      "cell_type": "markdown",
      "metadata": {
        "id": "view-in-github",
        "colab_type": "text"
      },
      "source": [
        "<a href=\"https://colab.research.google.com/github/dniemczok/Python3-L001/blob/master/Python_podstawy.ipynb\" target=\"_parent\"><img src=\"https://colab.research.google.com/assets/colab-badge.svg\" alt=\"Open In Colab\"/></a>"
      ]
    },
    {
      "cell_type": "code",
      "metadata": {
        "id": "Vdv3fQ5VdxwQ",
        "colab_type": "code",
        "colab": {
          "base_uri": "https://localhost:8080/",
          "height": 104
        },
        "outputId": "9c83eaf2-2eed-4acc-e11f-708732835327"
      },
      "source": [
        "pi = 3.1415926535\n",
        " \n",
        "# używając formatowania f-string wydrukuj przybliżenie\n",
        "# liczby pi do drugiego miejsca po przecinku\n",
        "print(f'Przybliżenie liczby pi do części dziesiętnych: {pi:.2f}')\n",
        "\n",
        "print('-' * 40)\n",
        "print('WERSJA: 1.0.1')\n",
        "print('-' * 40)\n",
        "\n",
        "\n",
        "print('summer', 'time', 'holiday', sep='#')"
      ],
      "execution_count": 5,
      "outputs": [
        {
          "output_type": "stream",
          "text": [
            "Przybliżenie liczby pi do części dziesiętnych: 3.14\n",
            "----------------------------------------\n",
            "WERSJA: 1.0.1\n",
            "----------------------------------------\n",
            "summer#time#holiday\n"
          ],
          "name": "stdout"
        }
      ]
    }
  ]
}